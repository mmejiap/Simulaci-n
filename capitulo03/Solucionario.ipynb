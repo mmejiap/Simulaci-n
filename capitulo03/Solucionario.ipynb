{
 "cells": [
  {
   "cell_type": "markdown",
   "metadata": {},
   "source": [
    "# Capitulo 3: Números aleatorios\n",
    "\n",
    "## Ejercicios\n",
    "\n",
    "___\n",
    "\n",
    "1. Si $x_{0}=5$ y $x_{n} = 3x_{n-1}\\space mod \\space 150$\n",
    "    determine $x_1, ... , x_{10}$\n",
    "    \n",
    "    \n",
    "**Sol.**\n"
   ]
  },
  {
   "cell_type": "code",
   "execution_count": 15,
   "metadata": {},
   "outputs": [
    {
     "name": "stdout",
     "output_type": "stream",
     "text": [
      " [1]  15  45 135 105  15  45 135 105  15  45\n"
     ]
    }
   ],
   "source": [
    "rm(list = ls())\n",
    "k<-10\n",
    "x <- rep(0,k)\n",
    "x[1] <- 5\n",
    "for(i in 2:(k+1)){\n",
    "     x[i] <- (3*x[i-1])%%150\n",
    "}\n",
    "print(x[2:(k+1)])"
   ]
  },
  {
   "cell_type": "markdown",
   "metadata": {},
   "source": [
    "___\n",
    "2. Si $x_{0}=3$ y $x_{n} = 5x_{n-1}+7\\space mod \\space 200$\n",
    "    determine $x_1, ... , x_{10}$\n",
    "    \n",
    "    \n",
    "   **Sol.**\n"
   ]
  },
  {
   "cell_type": "code",
   "execution_count": 16,
   "metadata": {},
   "outputs": [
    {
     "name": "stdout",
     "output_type": "stream",
     "text": [
      " [1]  22 117 192 167  42  17  92  67 142 117\n"
     ]
    }
   ],
   "source": [
    "rm(list = ls())\n",
    "k<-10\n",
    "x<-rep(0,k)\n",
    "x[1]<-3\n",
    "for(i in 2:(k+1)){\n",
    "    x[i]<-(5*x[i-1]+7)%%200\n",
    "}\n",
    "print(x[2:(k+1)])"
   ]
  },
  {
   "cell_type": "markdown",
   "metadata": {},
   "source": [
    "*En los ejercicios 3-9, emplee la simulación para aproximar las siguientes integrales. Compare su estimacion con la respuesta exacta, si ésta se conoce*\n",
    "\n",
    "___\n",
    "\n",
    "3. $ \\int_{1}^{0} \\! exp[e^x] \\, dx$\n",
    "\n",
    "**Sol.**"
   ]
  },
  {
   "cell_type": "code",
   "execution_count": 40,
   "metadata": {},
   "outputs": [
    {
     "name": "stdout",
     "output_type": "stream",
     "text": [
      "[1] 6.268238\n",
      "6.316564 with absolute error < 7e-14\n"
     ]
    },
    {
     "data": {
      "image/png": "[encoded data removed]",
      "text/plain": [
       "plot without title"
      ]
     },
     "metadata": {
      "image/png": {
       "height": 420,
       "width": 420
      },
      "text/plain": {
       "height": 420,
       "width": 420
      }
     },
     "output_type": "display_data"
    }
   ],
   "source": [
    "rm(list=ls())\n",
    "\n",
    "k<-50000\n",
    "n<-1:k\n",
    "\n",
    "u=runif(k,0,1)\n",
    "\n",
    "int_aprox <- cumsum(exp(exp(u)))/n\n",
    "\n",
    "plot(int_aprox, type = 'l')\n",
    "\n",
    "#valor aproximado\n",
    "print(int_aprox[length(u)])\n",
    "\n",
    "#valor real en R\n",
    "f<-function(x) exp(exp(x))\n",
    "print(integrate(f,0,1))\n"
   ]
  },
  {
   "cell_type": "code",
   "execution_count": null,
   "metadata": {},
   "outputs": [],
   "source": []
  }
 ],
 "metadata": {
  "kernelspec": {
   "display_name": "R",
   "language": "R",
   "name": "ir"
  },
  "language_info": {
   "codemirror_mode": "r",
   "file_extension": ".r",
   "mimetype": "text/x-r-source",
   "name": "R",
   "pygments_lexer": "r",
   "version": "3.6.1"
  }
 },
 "nbformat": 4,
 "nbformat_minor": 2
}
