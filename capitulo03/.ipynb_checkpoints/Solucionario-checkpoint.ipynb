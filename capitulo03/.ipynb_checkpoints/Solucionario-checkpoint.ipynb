{
 "cells": [
  {
   "cell_type": "markdown",
   "metadata": {},
   "source": [
    "# Capitulo 3: Números aleatorios\n",
    "\n",
    "## Ejercicios\n",
    "\n",
    "1.- Si $x_{0}=5$ y $x_{n} = 3x_{n-1}\\space mod \\space 150$\n",
    "    determine $x_1, ... , x_{10}$\n",
    "    \n",
    "    \n",
    "   **Sol.**\n"
   ]
  },
  {
   "cell_type": "code",
   "execution_count": 13,
   "metadata": {},
   "outputs": [
    {
     "name": "stdout",
     "output_type": "stream",
     "text": [
      " [1]  15  45 135 105  15  45 135 105  15  45\n"
     ]
    }
   ],
   "source": [
    "k<-10\n",
    "x <- rep(0,k)\n",
    "x[1] <- 5\n",
    "for(i in 2:(k+1)){\n",
    "     x[i] <- (3*x[i-1])%%150\n",
    "}\n",
    "print(x[2:(k+1)])"
   ]
  },
  {
   "cell_type": "code",
   "execution_count": null,
   "metadata": {},
   "outputs": [],
   "source": []
  }
 ],
 "metadata": {
  "kernelspec": {
   "display_name": "R",
   "language": "R",
   "name": "ir"
  },
  "language_info": {
   "codemirror_mode": "r",
   "file_extension": ".r",
   "mimetype": "text/x-r-source",
   "name": "R",
   "pygments_lexer": "r",
   "version": "3.6.1"
  }
 },
 "nbformat": 4,
 "nbformat_minor": 2
}
